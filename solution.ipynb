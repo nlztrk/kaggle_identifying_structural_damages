{
 "cells": [
  {
   "cell_type": "markdown",
   "metadata": {
    "papermill": {
     "duration": 0.016653,
     "end_time": "2020-12-13T11:51:16.780967",
     "exception": false,
     "start_time": "2020-12-13T11:51:16.764314",
     "status": "completed"
    },
    "tags": []
   },
   "source": [
    "Group 🤡 - Anadolu Sigorta Datathon - 3rd Place Solution\n",
    "\n",
    "## NOTE\n",
    "In order to show the operability of the steps in the file, a 3-epoch training has been determined. In the normal pipeline we use in the competition, the models are first trained on 2 classes with fewer samples, and then more than one model that takes this training as checkpoint with full data is left for a long training. Later, these models predict on whole data as ensemble. Full-data training is active in the current configuration. For the 2-class specific training mode, some cells must be skipped in the code and places with underdog comments must be enabled in the dataloader."
   ]
  },
  {
   "cell_type": "code",
   "execution_count": 1,
   "metadata": {
    "_cell_guid": "b1076dfc-b9ad-4769-8c92-a6c4dae69d19",
    "_uuid": "8f2839f25d086af736a60e9eeb907d3b93b6e0e5",
    "execution": {
     "iopub.execute_input": "2020-12-13T11:51:16.830040Z",
     "iopub.status.busy": "2020-12-13T11:51:16.824850Z",
     "iopub.status.idle": "2020-12-13T11:51:37.207453Z",
     "shell.execute_reply": "2020-12-13T11:51:37.206436Z"
    },
    "papermill": {
     "duration": 20.410974,
     "end_time": "2020-12-13T11:51:37.207580",
     "exception": false,
     "start_time": "2020-12-13T11:51:16.796606",
     "status": "completed"
    },
    "tags": []
   },
   "outputs": [
    {
     "name": "stdout",
     "output_type": "stream",
     "text": [
      "Collecting git+https://github.com/qubvel/segmentation_models.pytorch\r\n",
      "  Cloning https://github.com/qubvel/segmentation_models.pytorch to /tmp/pip-req-build-67hoqwsg\r\n",
      "Requirement already satisfied: torchvision>=0.3.0 in /opt/conda/lib/python3.7/site-packages (from segmentation-models-pytorch==0.1.3) (0.8.1)\r\n",
      "Collecting efficientnet-pytorch==0.6.3\r\n",
      "  Downloading efficientnet_pytorch-0.6.3.tar.gz (16 kB)\r\n",
      "Requirement already satisfied: torch in /opt/conda/lib/python3.7/site-packages (from efficientnet-pytorch==0.6.3->segmentation-models-pytorch==0.1.3) (1.7.0)\r\n",
      "Collecting pretrainedmodels==0.7.4\r\n",
      "  Downloading pretrainedmodels-0.7.4.tar.gz (58 kB)\r\n",
      "\u001b[K     |████████████████████████████████| 58 kB 599 kB/s \r\n",
      "\u001b[?25hRequirement already satisfied: torch in /opt/conda/lib/python3.7/site-packages (from efficientnet-pytorch==0.6.3->segmentation-models-pytorch==0.1.3) (1.7.0)\r\n",
      "Requirement already satisfied: torchvision>=0.3.0 in /opt/conda/lib/python3.7/site-packages (from segmentation-models-pytorch==0.1.3) (0.8.1)\r\n",
      "Requirement already satisfied: munch in /opt/conda/lib/python3.7/site-packages (from pretrainedmodels==0.7.4->segmentation-models-pytorch==0.1.3) (2.5.0)\r\n",
      "Requirement already satisfied: tqdm in /opt/conda/lib/python3.7/site-packages (from pretrainedmodels==0.7.4->segmentation-models-pytorch==0.1.3) (4.45.0)\r\n",
      "Requirement already satisfied: six in /opt/conda/lib/python3.7/site-packages (from munch->pretrainedmodels==0.7.4->segmentation-models-pytorch==0.1.3) (1.14.0)\r\n",
      "Collecting timm==0.3.2\r\n",
      "  Downloading timm-0.3.2-py3-none-any.whl (244 kB)\r\n",
      "\u001b[K     |████████████████████████████████| 244 kB 1.1 MB/s \r\n",
      "\u001b[?25hRequirement already satisfied: torchvision>=0.3.0 in /opt/conda/lib/python3.7/site-packages (from segmentation-models-pytorch==0.1.3) (0.8.1)\r\n",
      "Requirement already satisfied: torch in /opt/conda/lib/python3.7/site-packages (from efficientnet-pytorch==0.6.3->segmentation-models-pytorch==0.1.3) (1.7.0)\r\n",
      "Requirement already satisfied: future in /opt/conda/lib/python3.7/site-packages (from torch->efficientnet-pytorch==0.6.3->segmentation-models-pytorch==0.1.3) (0.18.2)\r\n",
      "Requirement already satisfied: typing_extensions in /opt/conda/lib/python3.7/site-packages (from torch->efficientnet-pytorch==0.6.3->segmentation-models-pytorch==0.1.3) (3.7.4.1)\r\n",
      "Requirement already satisfied: dataclasses in /opt/conda/lib/python3.7/site-packages (from torch->efficientnet-pytorch==0.6.3->segmentation-models-pytorch==0.1.3) (0.6)\r\n",
      "Requirement already satisfied: numpy in /opt/conda/lib/python3.7/site-packages (from torch->efficientnet-pytorch==0.6.3->segmentation-models-pytorch==0.1.3) (1.18.5)\r\n",
      "Requirement already satisfied: numpy in /opt/conda/lib/python3.7/site-packages (from torch->efficientnet-pytorch==0.6.3->segmentation-models-pytorch==0.1.3) (1.18.5)\r\n",
      "Requirement already satisfied: torch in /opt/conda/lib/python3.7/site-packages (from efficientnet-pytorch==0.6.3->segmentation-models-pytorch==0.1.3) (1.7.0)\r\n",
      "Requirement already satisfied: pillow>=4.1.1 in /opt/conda/lib/python3.7/site-packages (from torchvision>=0.3.0->segmentation-models-pytorch==0.1.3) (8.0.1)\r\n",
      "Building wheels for collected packages: segmentation-models-pytorch, efficientnet-pytorch, pretrainedmodels\r\n",
      "  Building wheel for segmentation-models-pytorch (setup.py) ... \u001b[?25l-\b \b\\\b \bdone\r\n",
      "\u001b[?25h  Created wheel for segmentation-models-pytorch: filename=segmentation_models_pytorch-0.1.3-py3-none-any.whl size=66501 sha256=ddbe4fca65bcbbda719d9ec926d10940dc19eadb15703584dc5c252f45502456\r\n",
      "  Stored in directory: /tmp/pip-ephem-wheel-cache-dtl73rk3/wheels/fa/c5/a8/1e8af6cb04a0974db8a4a156ebd2fdd1d99ad2558d3fce49d4\r\n",
      "  Building wheel for efficientnet-pytorch (setup.py) ... \u001b[?25l-\b \bdone\r\n",
      "\u001b[?25h  Created wheel for efficientnet-pytorch: filename=efficientnet_pytorch-0.6.3-py3-none-any.whl size=12419 sha256=adae7c750f11f313c599ee5fd823edb5f8049cb145b84e5337ca20599ee50d38\r\n",
      "  Stored in directory: /root/.cache/pip/wheels/90/6b/0c/f0ad36d00310e65390b0d4c9218ae6250ac579c92540c9097a\r\n",
      "  Building wheel for pretrainedmodels (setup.py) ... \u001b[?25l-\b \b\\\b \bdone\r\n",
      "\u001b[?25h  Created wheel for pretrainedmodels: filename=pretrainedmodels-0.7.4-py3-none-any.whl size=60962 sha256=afe4eddab9a0904d19a9d29d53c06b49de7be6ee780d7f6605fb129c83e95313\r\n",
      "  Stored in directory: /root/.cache/pip/wheels/ed/27/e8/9543d42de2740d3544db96aefef63bda3f2c1761b3334f4873\r\n",
      "Successfully built segmentation-models-pytorch efficientnet-pytorch pretrainedmodels\r\n",
      "Installing collected packages: timm, pretrainedmodels, efficientnet-pytorch, segmentation-models-pytorch\r\n",
      "Successfully installed efficientnet-pytorch-0.6.3 pretrainedmodels-0.7.4 segmentation-models-pytorch-0.1.3 timm-0.3.2\r\n"
     ]
    }
   ],
   "source": [
    "!pip install git+https://github.com/qubvel/segmentation_models.pytorch\n",
    "\n",
    "import cv2\n",
    "cv2.setNumThreads(0)\n",
    "cv2.ocl.setUseOpenCL(False)\n",
    "\n",
    "import numpy as np # linear algebra\n",
    "import pandas as pd # data processing, CSV file I/O (e.g. pd.read_csv)\n",
    "import torch\n",
    "import os\n",
    "from torch.utils.data import Dataset, DataLoader\n",
    "from skimage import io, transform\n",
    "from skimage.transform import resize, rotate, AffineTransform, warp\n",
    "import matplotlib.pyplot as plt\n",
    "\n",
    "from torchvision import transforms, utils\n",
    "from tqdm import tqdm\n",
    "import random\n",
    "import time\n",
    "import segmentation_models_pytorch as smp\n",
    "from torch import nn\n",
    "import albumentations as A\n",
    "import albumentations.augmentations.functional as F\n",
    "from albumentations.pytorch import ToTensorV2\n",
    "\n",
    "!ulimit -n 500000\n",
    "\n",
    "torch.backends.cudnn.benchmark = True\n",
    "\n",
    "path = \"/kaggle/input/datathon-challenge/\"\n",
    "training_img_extension = \"Training_Imgs/Training_Imgs/\"\n",
    "training_mask_extension = \"Training_Masks/Training_Masks/\"\n",
    "test_img_extension = \"Testing_Imgs/Testing_Imgs/\"\n",
    "mask_threshold = 0.8\n",
    "network_input = 512\n",
    "device = \"cuda\"\n",
    "\n",
    "def rle(img):\n",
    "    bytes = np.where(img.flatten()==1)[0]\n",
    "    runs = []\n",
    "    prev = -2\n",
    "    for b in bytes:\n",
    "        if (b>prev+1): runs.extend((b+1, 0))\n",
    "        runs[-1] += 1\n",
    "        prev = b\n",
    "\n",
    "    return ' '.join([str(i) for i in runs])\n",
    "\n",
    "def rle_decode(mask_rle, shape):\n",
    "    '''\n",
    "    mask_rle: run-length as string formated (start length)\n",
    "    shape: (height,width) of array to return \n",
    "    Returns numpy array, 1 - mask, 0 - background\n",
    "    '''\n",
    "    try:\n",
    "        s = mask_rle.split()\n",
    "        starts, lengths = [np.asarray(x, dtype=int) for x in (s[0:][::2], s[1:][::2])]\n",
    "        starts -= 1\n",
    "        ends = starts + lengths\n",
    "        img = np.zeros(shape[0] * shape[1], dtype=np.uint8)\n",
    "\n",
    "        for lo, hi in zip(starts, ends):\n",
    "            img[lo:hi] = 1\n",
    "        return img.reshape(shape).T\n",
    "    except:\n",
    "        return np.zeros(shape).T\n"
   ]
  },
  {
   "cell_type": "markdown",
   "metadata": {
    "papermill": {
     "duration": 0.022254,
     "end_time": "2020-12-13T11:51:37.254225",
     "exception": false,
     "start_time": "2020-12-13T11:51:37.231971",
     "status": "completed"
    },
    "tags": []
   },
   "source": [
    "## Dataset"
   ]
  },
  {
   "cell_type": "code",
   "execution_count": 2,
   "metadata": {
    "_cell_guid": "79c7e3d0-c299-4dcb-8224-4455121ee9b0",
    "_uuid": "d629ff2d2480ee46fbb7e2d37f6b5fab8052498a",
    "execution": {
     "iopub.execute_input": "2020-12-13T11:51:37.322561Z",
     "iopub.status.busy": "2020-12-13T11:51:37.321992Z",
     "iopub.status.idle": "2020-12-13T11:51:41.866823Z",
     "shell.execute_reply": "2020-12-13T11:51:41.866229Z"
    },
    "papermill": {
     "duration": 4.590431,
     "end_time": "2020-12-13T11:51:41.866978",
     "exception": false,
     "start_time": "2020-12-13T11:51:37.276547",
     "status": "completed"
    },
    "tags": []
   },
   "outputs": [],
   "source": [
    "class AnadoluDataset(Dataset):\n",
    "\n",
    "    def __init__(self, csv_file, root_dir, mask_dir, network_input, idxs, transform=None):\n",
    "        \"\"\"\n",
    "        Args:\n",
    "            csv_file (string): Path to the csv file with annotations.\n",
    "            root_dir (string): Directory with all the images.\n",
    "            transform (callable, optional): Optional transform to be applied\n",
    "                on a sample.\n",
    "        \"\"\"\n",
    "        self.selected_class = 2\n",
    "        self.landmarks_frame = pd.read_csv(csv_file)\n",
    "        self.root_dir = root_dir\n",
    "        self.mask_dir = mask_dir\n",
    "        self.transform = transform\n",
    "        self.network_input = network_input\n",
    "        self.landmarks_frame[\"imgname\"]  = self.landmarks_frame[\"filename_class\"].apply(lambda x: x[:-4] + \".jpeg\")\n",
    "        self.landmarks_frame[\"class_id\"]  = self.landmarks_frame[\"filename_class\"].apply(lambda x: int(x[-1]))\n",
    "\n",
    "        ## UNDERDOG MODE\n",
    "#         self.underdogs = self.landmarks_frame[(self.landmarks_frame[\"class_id\"].isin([1,2,3,4])) & (self.landmarks_frame[\"encoded_mask\"])]\n",
    "#         self.uniqframes = self.underdogs[\"imgname\"].unique()\n",
    "        \n",
    "        self.uniqframes = self.landmarks_frame[\"imgname\"].unique()[idxs]\n",
    "        self.landmarks_frame_values = self.landmarks_frame.values\n",
    "        \n",
    "    def __len__(self):\n",
    "        return len(self.uniqframes)\n",
    "\n",
    "    def __getitem__(self, idx):\n",
    "        \n",
    "        \n",
    "        if torch.is_tensor(idx):\n",
    "            idx = idx.tolist()\n",
    "\n",
    "        img_name = os.path.join(self.root_dir,\n",
    "                                self.uniqframes[idx])\n",
    "        image = io.imread(img_name)\n",
    "        \n",
    "        img_filter = self.landmarks_frame_values[:,4]==self.uniqframes[idx]\n",
    "        \n",
    "        mask_arr = self.landmarks_frame_values[img_filter,1]\n",
    "        img_width = image.shape[1]\n",
    "        img_height = image.shape[0]\n",
    "        shapearr = np.array([img_height, img_width])\n",
    "\n",
    "        decoded_masks = np.array([rle_decode(mask, (img_width, img_height)) for mask in mask_arr])\n",
    "        \n",
    "        returning = {'image': image, 'decoded_masks': decoded_masks, 'shape': shapearr}\n",
    "        \n",
    "        if self.transform:\n",
    "            transformed = self.transform(image=returning[\"image\"], masks=[mask for mask in returning[\"decoded_masks\"]])\n",
    "            returning[\"image\"] = transformed[\"image\"]\n",
    "            returning[\"decoded_masks\"] = np.array(transformed[\"masks\"])\n",
    "            \n",
    "        return returning\n",
    "    \n",
    "\n",
    "aug_trans = A.Compose(\n",
    "    [\n",
    "        A.Resize(network_input, network_input),\n",
    "        A.HorizontalFlip(p=0.5),\n",
    "        A.VerticalFlip(p=0.5),\n",
    "        A.ShiftScaleRotate(shift_limit=0.2, scale_limit=0.15, rotate_limit=40, p=0.5),\n",
    "        A.RGBShift(r_shift_limit=25, g_shift_limit=25, b_shift_limit=25, p=0.35),\n",
    "        A.RandomBrightnessContrast(brightness_limit=0.3, contrast_limit=0.3, p=0.5),\n",
    "    ]\n",
    ")\n",
    "\n",
    "dataset = AnadoluDataset(path + \"training.csv\", \n",
    "                         path+training_img_extension, \n",
    "                         path+training_mask_extension, \n",
    "                         network_input,\n",
    "                         np.arange(1401),\n",
    "                         aug_trans\n",
    "                        )     \n",
    "\n",
    "val_class_inverse_ratios = torch.FloatTensor(np.ones(4)*0.25).to(device)\n",
    "train_class_inverse_ratios = torch.FloatTensor(np.ones(4)*0.25).to(device)\n",
    "class_inverse_ratios = [train_class_inverse_ratios, val_class_inverse_ratios]"
   ]
  },
  {
   "cell_type": "markdown",
   "metadata": {
    "papermill": {
     "duration": 0.022172,
     "end_time": "2020-12-13T11:51:41.912582",
     "exception": false,
     "start_time": "2020-12-13T11:51:41.890410",
     "status": "completed"
    },
    "tags": []
   },
   "source": [
    "# Dataset Class-Imbalance Analysis"
   ]
  },
  {
   "cell_type": "code",
   "execution_count": 3,
   "metadata": {
    "execution": {
     "iopub.execute_input": "2020-12-13T11:51:41.970328Z",
     "iopub.status.busy": "2020-12-13T11:51:41.969772Z",
     "iopub.status.idle": "2020-12-13T11:51:42.120561Z",
     "shell.execute_reply": "2020-12-13T11:51:42.119900Z"
    },
    "papermill": {
     "duration": 0.185807,
     "end_time": "2020-12-13T11:51:42.120685",
     "exception": false,
     "start_time": "2020-12-13T11:51:41.934878",
     "status": "completed"
    },
    "tags": []
   },
   "outputs": [
    {
     "name": "stdout",
     "output_type": "stream",
     "text": [
      "{'3': 765, '1': 694, '2': 311, '4': 181}\n",
      "Picking for class 4\n",
      "Picking for class 2\n",
      "Picking for class 1\n",
      "Picking for class 3\n"
     ]
    }
   ],
   "source": [
    "train_split_ratio = 0.65\n",
    "\n",
    "existing_masks = dataset.landmarks_frame[[\"filename_class\",\"encoded_mask\"]].dropna()\n",
    "namesplit = existing_masks[\"filename_class\"].str.split(\"_id\", n=1, expand=True)\n",
    "\n",
    "existing_masks[\"class\"] = namesplit[1]\n",
    "existing_masks[\"img_unique_id\"] = namesplit[0]\n",
    "existing_masks = existing_masks[[\"class\", \"img_unique_id\"]]\n",
    "\n",
    "counts = existing_masks[\"class\"].value_counts().to_dict()\n",
    "\n",
    "print(counts)\n",
    "\n",
    "class_pick_order = dict(sorted(counts.items(), key=lambda item: item[1]))\n",
    "class_pick_order = list(class_pick_order.keys())\n",
    "\n",
    "\n",
    "train_imgs_after_process = []\n",
    "val_imgs_after_process = []\n",
    "\n",
    "for i in class_pick_order:\n",
    "    \n",
    "    print(\"Picking for class\", i)\n",
    "    counts = existing_masks[\"class\"].value_counts().to_dict()\n",
    "    class_count = counts[i]\n",
    "    perm = np.random.permutation(class_count)\n",
    "    \n",
    "    train_selected_imgs = perm[:int(class_count*train_split_ratio)]\n",
    "    val_selected_imgs = perm[-int(class_count*(1-train_split_ratio)):]\n",
    "    \n",
    "    imgs_for_class = existing_masks[existing_masks[\"class\"]==i][\"img_unique_id\"].unique()\n",
    "    train_imgs_for_class = imgs_for_class[train_selected_imgs]\n",
    "    val_imgs_for_class = imgs_for_class[val_selected_imgs]\n",
    "    \n",
    "    for ti in train_imgs_for_class:\n",
    "        train_imgs_after_process.append(ti)\n",
    "        \n",
    "    for vi in val_imgs_for_class:\n",
    "        val_imgs_after_process.append(vi)\n",
    "        \n",
    "    existing_masks = existing_masks[existing_masks[\"img_unique_id\"].isin(train_imgs_for_class)==False]\n",
    "    existing_masks = existing_masks[existing_masks[\"img_unique_id\"].isin(val_imgs_for_class)==False]"
   ]
  },
  {
   "cell_type": "code",
   "execution_count": 4,
   "metadata": {
    "execution": {
     "iopub.execute_input": "2020-12-13T11:51:42.182107Z",
     "iopub.status.busy": "2020-12-13T11:51:42.181080Z",
     "iopub.status.idle": "2020-12-13T11:51:42.249907Z",
     "shell.execute_reply": "2020-12-13T11:51:42.249149Z"
    },
    "papermill": {
     "duration": 0.106102,
     "end_time": "2020-12-13T11:51:42.250037",
     "exception": false,
     "start_time": "2020-12-13T11:51:42.143935",
     "status": "completed"
    },
    "tags": []
   },
   "outputs": [
    {
     "name": "stdout",
     "output_type": "stream",
     "text": [
      "Train set class distribution:  {'1': 452, '2': 207, '3': 482, '4': 117}\n",
      "Validation set class distribution:  {'1': 242, '2': 104, '3': 282, '4': 64}\n",
      "\n",
      "Train set class weights:  tensor([0.1252, 0.2735, 0.1174, 0.4838], device='cuda:0')\n",
      "Validation set class weights:  tensor([0.1255, 0.2921, 0.1077, 0.4747], device='cuda:0')\n"
     ]
    }
   ],
   "source": [
    "existing_masks = dataset.landmarks_frame[[\"filename_class\",\"encoded_mask\"]].dropna()\n",
    "namesplit = existing_masks[\"filename_class\"].str.split(\"_id\", n=1, expand=True)\n",
    "\n",
    "existing_masks[\"class\"] = namesplit[1]\n",
    "existing_masks[\"img_unique_id\"] = namesplit[0]\n",
    "existing_masks = existing_masks[[\"class\", \"img_unique_id\"]]\n",
    "\n",
    "val_masks = existing_masks[existing_masks[\"img_unique_id\"].isin(val_imgs_after_process)]\n",
    "train_masks = existing_masks[existing_masks[\"img_unique_id\"].isin(train_imgs_after_process)]\n",
    "\n",
    "val_counts = val_masks[\"class\"].value_counts().to_dict()\n",
    "train_counts = train_masks[\"class\"].value_counts().to_dict()\n",
    "val_counts = dict(sorted(val_counts.items()))\n",
    "train_counts = dict(sorted(train_counts.items()))\n",
    "\n",
    "print(\"Train set class distribution: \", train_counts)\n",
    "print(\"Validation set class distribution: \", val_counts)\n",
    "\n",
    "total_val_class = sum(list(val_counts.values()))\n",
    "total_train_class = sum(list(train_counts.values()))\n",
    "\n",
    "val_class_inverse_ratios = total_val_class / np.array(list(val_counts.values()))\n",
    "val_class_inverse_ratios = val_class_inverse_ratios / sum(val_class_inverse_ratios)\n",
    "val_class_inverse_ratios = torch.FloatTensor(val_class_inverse_ratios).to(device)\n",
    "\n",
    "train_class_inverse_ratios = total_train_class / np.array(list(train_counts.values()))\n",
    "train_class_inverse_ratios = train_class_inverse_ratios / sum(train_class_inverse_ratios)\n",
    "train_class_inverse_ratios = torch.FloatTensor(train_class_inverse_ratios).to(device)\n",
    "\n",
    "\n",
    "print(\"\\nTrain set class weights: \", train_class_inverse_ratios)\n",
    "print(\"Validation set class weights: \", val_class_inverse_ratios)\n",
    "\n",
    "class_inverse_ratios = [train_class_inverse_ratios, val_class_inverse_ratios]\n",
    "#class_loss_weights = "
   ]
  },
  {
   "cell_type": "code",
   "execution_count": 5,
   "metadata": {
    "execution": {
     "iopub.execute_input": "2020-12-13T11:51:42.307162Z",
     "iopub.status.busy": "2020-12-13T11:51:42.304577Z",
     "iopub.status.idle": "2020-12-13T11:51:42.425931Z",
     "shell.execute_reply": "2020-12-13T11:51:42.425319Z"
    },
    "papermill": {
     "duration": 0.151737,
     "end_time": "2020-12-13T11:51:42.426028",
     "exception": false,
     "start_time": "2020-12-13T11:51:42.274291",
     "status": "completed"
    },
    "tags": []
   },
   "outputs": [
    {
     "name": "stdout",
     "output_type": "stream",
     "text": [
      "Train set indice length:  911\n",
      "Validation set indice length:  489\n"
     ]
    }
   ],
   "source": [
    "train_idxs = []\n",
    "val_idxs = []\n",
    "\n",
    "for ti in train_imgs_after_process:\n",
    "    train_idxs.append(np.argwhere(dataset.uniqframes==ti+\".jpeg\")[0][0])\n",
    "\n",
    "for vi in val_imgs_after_process:\n",
    "    val_idxs.append(np.argwhere(dataset.uniqframes==vi+\".jpeg\")[0][0])\n",
    "    \n",
    "print(\"Train set indice length: \", len(train_idxs))\n",
    "print(\"Validation set indice length: \", len(val_idxs))\n"
   ]
  },
  {
   "cell_type": "markdown",
   "metadata": {
    "papermill": {
     "duration": 0.023449,
     "end_time": "2020-12-13T11:51:42.473311",
     "exception": false,
     "start_time": "2020-12-13T11:51:42.449862",
     "status": "completed"
    },
    "tags": []
   },
   "source": [
    "## Visualization"
   ]
  },
  {
   "cell_type": "code",
   "execution_count": 6,
   "metadata": {
    "execution": {
     "iopub.execute_input": "2020-12-13T11:51:42.529785Z",
     "iopub.status.busy": "2020-12-13T11:51:42.529250Z",
     "iopub.status.idle": "2020-12-13T11:51:42.807847Z",
     "shell.execute_reply": "2020-12-13T11:51:42.808274Z"
    },
    "papermill": {
     "duration": 0.311749,
     "end_time": "2020-12-13T11:51:42.808413",
     "exception": false,
     "start_time": "2020-12-13T11:51:42.496664",
     "status": "completed"
    },
    "tags": []
   },
   "outputs": [
    {
     "data": {
      "image/png": "[encoded data removed]",
      "text/plain": [
       "<Figure size 1080x360 with 1 Axes>"
      ]
     },
     "metadata": {
      "needs_background": "light"
     },
     "output_type": "display_data"
    }
   ],
   "source": [
    "fig = plt.figure(figsize=(15,5))\n",
    "\n",
    "maskcolors = [[0], [1], [2], [0,1,2]]\n",
    "\n",
    "i = 1 ## You can iterate through photos with dataset index number\n",
    "\n",
    "data = dataset[i]\n",
    "sample = data[\"image\"]\n",
    "decoded_masks = data[\"decoded_masks\"]\n",
    "\n",
    "plt.axis('off')\n",
    "\n",
    "for mask_i, mask in enumerate(decoded_masks):\n",
    "    try: \n",
    "        mask.shape == 1\n",
    "        mask = mask[..., np.newaxis]\n",
    "\n",
    "        active_channel = mask[:,:,0]\n",
    "\n",
    "        mask = np.tile(mask,(1,1,3))\n",
    "        mask = np.zeros(mask.shape)\n",
    "\n",
    "        for idx in maskcolors[mask_i]:\n",
    "            mask[:,:,idx] = active_channel\n",
    "\n",
    "        masklocs = np.where(mask == 1)\n",
    "        sample[masklocs] = 255\n",
    "\n",
    "    except:\n",
    "        pass\n",
    "\n",
    "plt.imshow(sample)\n",
    "plt.show()"
   ]
  },
  {
   "cell_type": "markdown",
   "metadata": {
    "papermill": {
     "duration": 0.026307,
     "end_time": "2020-12-13T11:51:42.861794",
     "exception": false,
     "start_time": "2020-12-13T11:51:42.835487",
     "status": "completed"
    },
    "tags": []
   },
   "source": [
    "## Setting Dataloaders"
   ]
  },
  {
   "cell_type": "code",
   "execution_count": 7,
   "metadata": {
    "execution": {
     "iopub.execute_input": "2020-12-13T11:51:42.928996Z",
     "iopub.status.busy": "2020-12-13T11:51:42.928276Z",
     "iopub.status.idle": "2020-12-13T11:51:43.206662Z",
     "shell.execute_reply": "2020-12-13T11:51:43.205937Z"
    },
    "papermill": {
     "duration": 0.317645,
     "end_time": "2020-12-13T11:51:43.206766",
     "exception": false,
     "start_time": "2020-12-13T11:51:42.889121",
     "status": "completed"
    },
    "tags": []
   },
   "outputs": [],
   "source": [
    "train_tf_compose = A.Compose(\n",
    "    [\n",
    "        A.Resize(network_input, network_input),\n",
    "        A.HorizontalFlip(p=0.5),\n",
    "        A.VerticalFlip(p=0.5),\n",
    "        A.ShiftScaleRotate(shift_limit=0.2, scale_limit=0.15, rotate_limit=40, p=0.5),\n",
    "        A.RGBShift(r_shift_limit=25, g_shift_limit=25, b_shift_limit=25, p=0.35),\n",
    "        A.RandomBrightnessContrast(brightness_limit=0.3, contrast_limit=0.3, p=0.5),\n",
    "        A.Normalize(mean=(0.485, 0.456, 0.406), std=(0.229, 0.224, 0.225)),\n",
    "        ToTensorV2(),\n",
    "    ]\n",
    ")\n",
    "\n",
    "\n",
    "train_starting_tf_compose =  A.Compose(\n",
    "    [\n",
    "        A.Resize(network_input, network_input),\n",
    "        A.Normalize(mean=(0.485, 0.456, 0.406), std=(0.229, 0.224, 0.225)),\n",
    "        ToTensorV2(),\n",
    "    ]\n",
    ")\n",
    "\n",
    "val_tf_compose = A.Compose(\n",
    "    [\n",
    "        A.Resize(network_input, network_input),\n",
    "        A.Normalize(mean=(0.485, 0.456, 0.406), std=(0.229, 0.224, 0.225)),\n",
    "        ToTensorV2(),\n",
    "    ]\n",
    ")\n",
    "\n",
    "\n",
    "train_tf_composes = [train_starting_tf_compose, train_tf_compose]\n",
    "\n",
    "train_set = AnadoluDataset(path + \"training.csv\", \n",
    "                         path+training_img_extension, \n",
    "                         path+training_mask_extension, \n",
    "                         network_input,\n",
    "                         train_idxs,\n",
    "                         train_starting_tf_compose)\n",
    "                         \n",
    "val_set = AnadoluDataset(path + \"training.csv\", \n",
    "                         path+training_img_extension, \n",
    "                         path+training_mask_extension, \n",
    "                         network_input,\n",
    "                         val_idxs,\n",
    "                         val_tf_compose)"
   ]
  },
  {
   "cell_type": "code",
   "execution_count": 8,
   "metadata": {
    "execution": {
     "iopub.execute_input": "2020-12-13T11:51:43.264954Z",
     "iopub.status.busy": "2020-12-13T11:51:43.264215Z",
     "iopub.status.idle": "2020-12-13T11:51:43.267571Z",
     "shell.execute_reply": "2020-12-13T11:51:43.267967Z"
    },
    "papermill": {
     "duration": 0.035021,
     "end_time": "2020-12-13T11:51:43.268076",
     "exception": false,
     "start_time": "2020-12-13T11:51:43.233055",
     "status": "completed"
    },
    "tags": []
   },
   "outputs": [],
   "source": [
    "bsize = 4\n",
    "\n",
    "train_dataloader = DataLoader(train_set, batch_size=bsize,\n",
    "                        shuffle=True, num_workers=0, pin_memory=True, drop_last=True)\n",
    "\n",
    "val_dataloader = DataLoader(val_set, batch_size=4,\n",
    "                        shuffle=False, num_workers=0, pin_memory=True, drop_last=True)"
   ]
  },
  {
   "cell_type": "code",
   "execution_count": 9,
   "metadata": {
    "execution": {
     "iopub.execute_input": "2020-12-13T11:51:43.326472Z",
     "iopub.status.busy": "2020-12-13T11:51:43.325955Z",
     "iopub.status.idle": "2020-12-13T11:51:43.628969Z",
     "shell.execute_reply": "2020-12-13T11:51:43.629401Z"
    },
    "papermill": {
     "duration": 0.335494,
     "end_time": "2020-12-13T11:51:43.629551",
     "exception": false,
     "start_time": "2020-12-13T11:51:43.294057",
     "status": "completed"
    },
    "tags": []
   },
   "outputs": [
    {
     "name": "stdout",
     "output_type": "stream",
     "text": [
      "dict_keys(['image', 'decoded_masks', 'shape'])\n",
      "torch.Size([4, 4, 512, 512])\n"
     ]
    }
   ],
   "source": [
    "for data in val_dataloader:\n",
    "    print(data.keys())\n",
    "    print(data[\"decoded_masks\"].shape)\n",
    "    break"
   ]
  },
  {
   "cell_type": "code",
   "execution_count": 10,
   "metadata": {
    "execution": {
     "iopub.execute_input": "2020-12-13T11:51:43.689768Z",
     "iopub.status.busy": "2020-12-13T11:51:43.688931Z",
     "iopub.status.idle": "2020-12-13T11:51:46.148646Z",
     "shell.execute_reply": "2020-12-13T11:51:46.148030Z"
    },
    "papermill": {
     "duration": 2.492476,
     "end_time": "2020-12-13T11:51:46.148828",
     "exception": false,
     "start_time": "2020-12-13T11:51:43.656352",
     "status": "completed"
    },
    "tags": []
   },
   "outputs": [
    {
     "name": "stderr",
     "output_type": "stream",
     "text": [
      "Downloading: \"https://github.com/rwightman/pytorch-image-models/releases/download/v0.1-weights/tf_efficientnet_b0_aa-827b6e33.pth\" to /root/.cache/torch/hub/checkpoints/tf_efficientnet_b0_aa-827b6e33.pth\n"
     ]
    },
    {
     "data": {
      "application/vnd.jupyter.widget-view+json": {
       "model_id": "058c28d2f3f642d0a7e14ce3ef994372",
       "version_major": 2,
       "version_minor": 0
      },
      "text/plain": [
       "HBox(children=(FloatProgress(value=0.0, max=21383997.0), HTML(value='')))"
      ]
     },
     "metadata": {},
     "output_type": "display_data"
    },
    {
     "name": "stdout",
     "output_type": "stream",
     "text": [
      "\n"
     ]
    }
   ],
   "source": [
    "network = smp.DeepLabV3Plus(\n",
    "encoder_name=\"timm-efficientnet-b0\",\n",
    "encoder_weights=\"imagenet\", \n",
    "in_channels=3,\n",
    "classes=4)                     \n",
    "\n",
    "\n",
    "## FOR TRANSFER LEARNING\n",
    "# for param in network.encoder.parameters():\n",
    "#     param.requires_grad = False\n",
    "\n",
    "## FOR LOADING A CHECKPOINT    \n",
    "# network = torch.load(\"kaggle63.pt\")"
   ]
  },
  {
   "cell_type": "code",
   "execution_count": 11,
   "metadata": {
    "execution": {
     "iopub.execute_input": "2020-12-13T11:51:46.226904Z",
     "iopub.status.busy": "2020-12-13T11:51:46.221481Z",
     "iopub.status.idle": "2020-12-13T11:51:46.239385Z",
     "shell.execute_reply": "2020-12-13T11:51:46.238985Z"
    },
    "papermill": {
     "duration": 0.062169,
     "end_time": "2020-12-13T11:51:46.239472",
     "exception": false,
     "start_time": "2020-12-13T11:51:46.177303",
     "status": "completed"
    },
    "tags": []
   },
   "outputs": [],
   "source": [
    "def train(lr, model, train_dl, valid_dl, loss_fns, acc_fn, epochs=1, out_size=512, train_tf=None, class_inverse_ratios=[0.25, 0.25, 0.25, 0.25]):\n",
    "    start = time.time()\n",
    "    model.to(device)\n",
    "    loss_weights = [.50, .15, .35]\n",
    "    train_loss, valid_loss = [], []\n",
    "\n",
    "    best_acc = 0.0\n",
    "    \n",
    "    optimizer = torch.optim.Adam(model.parameters(), lr=lr)\n",
    "    \n",
    "    epoch_acc = 0\n",
    "    epoch_acc_to_aug = 0.64\n",
    "    last_train_loss = 1.\n",
    "    \n",
    "    for epoch in range(epochs):\n",
    "        print('Epoch {}/{}'.format(epoch, epochs - 1))\n",
    "        print('-' * 10)\n",
    "        \n",
    "        if epoch_acc >= epoch_acc_to_aug:\n",
    "            train_dl.dataset.transform = train_tf[1]\n",
    "            print(\"DICE >=\", epoch_acc_to_aug, \"!. Transforms enabled.\")\n",
    "        else:\n",
    "            train_dl.dataset.transform = train_tf[0]\n",
    "            print(\"DICE <\", epoch_acc_to_aug, \"!. Transforms disabled.\")\n",
    "            \n",
    "        for phase in ['train', 'valid']:\n",
    "            if phase == 'train':\n",
    "                model.train(True)  # Set trainind mode = true\n",
    "                dataloader = train_dl\n",
    "            else:\n",
    "                model.train(False)  # Set model to evaluate mode\n",
    "                dataloader = valid_dl\n",
    "\n",
    "            running_loss = 0.0\n",
    "            running_acc = 0.0\n",
    "\n",
    "            step = 0\n",
    "\n",
    "            # iterate over data\n",
    "            for data in dataloader:\n",
    "                x = data[\"image\"].float().to(device, non_blocking=True)\n",
    "                y = data[\"decoded_masks\"].float().to(device, non_blocking=True)\n",
    "                step += 1\n",
    "\n",
    "                if phase == 'train':\n",
    "                    optimizer.zero_grad()\n",
    "                    outputs = torch.sigmoid(model(x))\n",
    "                    \n",
    "                    loss = np.sum([loss_fn(outputs, y, class_inverse_ratios[0]) * loss_weights[loss_i] for loss_i, loss_fn in enumerate(loss_fns)])\n",
    "\n",
    "                    loss.backward()\n",
    "                    optimizer.step()\n",
    "\n",
    "                else:\n",
    "                    with torch.no_grad():\n",
    "                        outputs = torch.sigmoid(model(x))                            \n",
    "                        loss = np.sum([loss_fn(outputs, y, class_inverse_ratios[1]) * loss_weights[loss_i] for loss_i, loss_fn in enumerate(loss_fns)])\n",
    "                    \n",
    "\n",
    "                o_copy = outputs.detach()\n",
    "                o_copy[o_copy<mask_threshold] = 0\n",
    "                o_copy[o_copy>=mask_threshold] = 1\n",
    "                \n",
    "                if phase==\"train\":\n",
    "                    acc = acc_fn(o_copy, y, class_inverse_ratios[0])\n",
    "                else:\n",
    "                    acc = acc_fn(o_copy, y, class_inverse_ratios[1])\n",
    "                    \n",
    "                printed_loss = loss\n",
    "                \n",
    "                running_acc  += acc*dataloader.batch_size\n",
    "                running_loss += printed_loss*dataloader.batch_size \n",
    "\n",
    "                if step % 25 == 0 and phase==\"train\":\n",
    "                    print('Current step: {}  Loss: {} DICE: {} AllocMem (Mb): {}'.format(step, printed_loss, acc, torch.cuda.memory_allocated()/1024/1024))\n",
    "\n",
    "            epoch_loss = running_loss / len(dataloader.dataset)\n",
    "            epoch_acc = running_acc / len(dataloader.dataset)\n",
    "            \n",
    "            if phase == \"train\":\n",
    "                train_acc = epoch_acc\n",
    "                \n",
    "                if (last_train_loss - epoch_loss) < 0:\n",
    "                    print(\"Loss plateu, Decreasing LR\")\n",
    "                    for g in optimizer.param_groups:\n",
    "                        g['lr'] = g['lr'] / 1.5\n",
    "                        \n",
    "                last_train_loss = epoch_loss\n",
    "                \n",
    "                \n",
    "            \n",
    "            if phase == \"valid\" and epoch>=0:\n",
    "                if epoch_acc>best_acc:\n",
    "                    best_acc = epoch_acc\n",
    "                    val_dice = \"{:.4f}\".format(epoch_acc).split(\".\")[-1]\n",
    "                    train_dice = \"{:.4f}\".format(train_acc).split(\".\")[-1]\n",
    "                    \n",
    "                    torch.save(model, \"best_val_\"+val_dice+\"__train_\"+train_dice+\".pt\")\n",
    "                    print(\"Saved best val model with DICE: {:.4f}\".format(epoch_acc))\n",
    "            \n",
    "            \n",
    "            print('{} Loss: {:.4f}, DICE: {:.4f}'.format(phase, epoch_loss, epoch_acc))\n",
    "\n",
    "            train_loss.append(epoch_loss) if phase=='train' else valid_loss.append(epoch_loss)\n",
    "            \n",
    "            \n",
    "    time_elapsed = time.time() - start\n",
    "    print('Training complete in {:.0f}m {:.0f}s'.format(time_elapsed // 60, time_elapsed % 60))    \n",
    "    torch.save(model, \"model.pt\")\n",
    "    \n",
    "    return train_loss, valid_loss    "
   ]
  },
  {
   "cell_type": "code",
   "execution_count": 12,
   "metadata": {
    "execution": {
     "iopub.execute_input": "2020-12-13T11:51:46.352899Z",
     "iopub.status.busy": "2020-12-13T11:51:46.352098Z",
     "iopub.status.idle": "2020-12-13T11:51:46.354611Z",
     "shell.execute_reply": "2020-12-13T11:51:46.355051Z"
    },
    "papermill": {
     "duration": 0.055347,
     "end_time": "2020-12-13T11:51:46.355153",
     "exception": false,
     "start_time": "2020-12-13T11:51:46.299806",
     "status": "completed"
    },
    "tags": []
   },
   "outputs": [],
   "source": [
    "def soft_dice_loss(y_pred, y_true, train_class_inverse_ratios=train_class_inverse_ratios, epsilon=1e-6): \n",
    "    \n",
    "    dims = (1, 2, 3)\n",
    "    intersection = torch.sum(y_pred * y_true, dims)\n",
    "    cardinality = torch.sum(y_pred + y_true, dims)\n",
    "\n",
    "    dice_score = 2. * intersection / (cardinality + epsilon)\n",
    "    return torch.mean(1. - dice_score)\n",
    "\n",
    "\n",
    "def dice_score(y_pred, y_true, train_class_inverse_ratios=train_class_inverse_ratios, epsilon=1e-6): \n",
    "    ''' \n",
    "    Soft dice loss calculation for arbitrary batch size, number of classes, and number of spatial dimensions.\n",
    "    Assumes the `channels_last` format.\n",
    "  \n",
    "    # Arguments\n",
    "        y_true: b x X x Y( x Z...) x c One hot encoding of ground truth\n",
    "        y_pred: b x X x Y( x Z...) x c Network output, must sum to 1 over c channel (such as after softmax) \n",
    "        epsilon: Used for numerical stability to avoid divide by zero errors\n",
    "    \n",
    "    # References\n",
    "        V-Net: Fully Convolutional Neural Networks for Volumetric Medical Image Segmentation \n",
    "        https://arxiv.org/abs/1606.04797\n",
    "        More details on Dice loss formulation \n",
    "        https://mediatum.ub.tum.de/doc/1395260/1395260.pdf (page 72)\n",
    "        \n",
    "        Adapted from https://github.com/Lasagne/Recipes/issues/99#issuecomment-347775022\n",
    "    '''\n",
    "    y_pred, y_true = y_pred.permute(0,2,3,1), y_true.permute(0,2,3,1)\n",
    "\n",
    "    axes = tuple(range(1, len(y_pred.shape)-1)) \n",
    "    mult = y_pred * y_true\n",
    "\n",
    "    numerator = 2. * torch.sum(mult, axis=axes)\n",
    "    denominator = torch.sum(y_pred + y_true, axes)\n",
    "    \n",
    "    return torch.mean((numerator + epsilon) / (denominator + epsilon)) # average over classes and batch\n",
    "\n",
    "def bce_over_mask_loss(y_pred, y_true, train_class_inverse_ratios=train_class_inverse_ratios, network_input_size=network_input): \n",
    "    ''' \n",
    "    Soft dice loss calculation for arbitrary batch size, number of classes, and number of spatial dimensions.\n",
    "    Assumes the `channels_last` format.\n",
    "  \n",
    "    # Arguments\n",
    "        y_true: b x X x Y( x Z...) x c One hot encoding of ground truth\n",
    "        y_pred: b x X x Y( x Z...) x c Network output, must sum to 1 over c channel (such as after softmax) \n",
    "    '''\n",
    "    \n",
    "    y_pred, y_true = y_pred.permute(0,2,3,1), y_true.permute(0,2,3,1)\n",
    "    \n",
    "    bce = nn.BCELoss(reduction=\"none\")\n",
    "    bceloss = bce(y_pred, y_true)\n",
    "    \n",
    "    summation = torch.sum(bceloss, axis=(1,2))\n",
    "    batch_mean = torch.mean(summation, axis=0)\n",
    "    mask_mean = torch.sum(batch_mean * train_class_inverse_ratios)\n",
    "    \n",
    "    return mask_mean / (network_input_size**2) # average over classes and batch\n",
    "\n",
    "def tversky(y_pred, y_true, train_class_inverse_ratios, smooth=1, alpha=0.7):\n",
    "\n",
    "    dims = (0, 2, 3)\n",
    "    \n",
    "    true_pos = torch.sum(torch.sum(y_pred * y_true, dims) * train_class_inverse_ratios)\n",
    "    false_neg = torch.sum(torch.sum((1 - y_pred) * y_true, dims) * train_class_inverse_ratios)\n",
    "    false_pos = torch.sum(torch.sum((1 - y_true) * y_pred, dims) * train_class_inverse_ratios)\n",
    "    \n",
    "    return (true_pos + smooth) / (true_pos + alpha * false_neg + (1 - alpha) * false_pos + smooth)\n",
    "\n",
    "def focal_tversky_loss(y_pred, y_true, train_class_inverse_ratios, gamma=0.75):\n",
    "    \n",
    "    tv = tversky(y_true, y_pred, train_class_inverse_ratios)\n",
    "    return torch.pow((1 - tv), gamma)\n"
   ]
  },
  {
   "cell_type": "code",
   "execution_count": 13,
   "metadata": {
    "execution": {
     "iopub.execute_input": "2020-12-13T11:51:46.415989Z",
     "iopub.status.busy": "2020-12-13T11:51:46.415431Z",
     "iopub.status.idle": "2020-12-13T11:58:36.031161Z",
     "shell.execute_reply": "2020-12-13T11:58:36.032029Z"
    },
    "papermill": {
     "duration": 409.648925,
     "end_time": "2020-12-13T11:58:36.032208",
     "exception": false,
     "start_time": "2020-12-13T11:51:46.383283",
     "status": "completed"
    },
    "tags": []
   },
   "outputs": [
    {
     "name": "stdout",
     "output_type": "stream",
     "text": [
      "Epoch 0/2\n",
      "----------\n",
      "DICE < 0.64 !. Transforms disabled.\n",
      "Current step: 25  Loss: 0.8748001456260681 DICE: 0.5677095651626587 AllocMem (Mb): 115.8564453125\n",
      "Current step: 50  Loss: 0.737671971321106 DICE: 0.6723414063453674 AllocMem (Mb): 115.8564453125\n",
      "Current step: 75  Loss: 0.8265969157218933 DICE: 0.5533096194267273 AllocMem (Mb): 115.8564453125\n",
      "Current step: 100  Loss: 0.5559031963348389 DICE: 0.6376137733459473 AllocMem (Mb): 115.8564453125\n",
      "Current step: 125  Loss: 0.7836527824401855 DICE: 0.4604164958000183 AllocMem (Mb): 115.8564453125\n",
      "Current step: 150  Loss: 0.8259316086769104 DICE: 0.506971001625061 AllocMem (Mb): 115.8564453125\n",
      "Current step: 175  Loss: 0.4071674048900604 DICE: 0.8213141560554504 AllocMem (Mb): 115.8564453125\n",
      "Current step: 200  Loss: 0.743782639503479 DICE: 0.5367636680603027 AllocMem (Mb): 115.8564453125\n",
      "Current step: 225  Loss: 0.5084253549575806 DICE: 0.6765023469924927 AllocMem (Mb): 115.8564453125\n",
      "train Loss: 0.6747, DICE: 0.6106\n",
      "Saved best val model with DICE: 0.6417\n",
      "valid Loss: 0.5560, DICE: 0.6417\n",
      "Epoch 1/2\n",
      "----------\n",
      "DICE >= 0.64 !. Transforms enabled.\n",
      "Current step: 25  Loss: 0.649088978767395 DICE: 0.6491223573684692 AllocMem (Mb): 115.8583984375\n",
      "Current step: 50  Loss: 0.6427525877952576 DICE: 0.592119038105011 AllocMem (Mb): 115.8583984375\n",
      "Current step: 75  Loss: 0.4298180341720581 DICE: 0.6194164752960205 AllocMem (Mb): 115.8583984375\n",
      "Current step: 100  Loss: 0.5427877902984619 DICE: 0.706856369972229 AllocMem (Mb): 115.8583984375\n",
      "Current step: 125  Loss: 0.455349326133728 DICE: 0.5545397996902466 AllocMem (Mb): 115.8583984375\n",
      "Current step: 150  Loss: 0.7491970062255859 DICE: 0.44898027181625366 AllocMem (Mb): 115.8583984375\n",
      "Current step: 175  Loss: 0.6659250259399414 DICE: 0.5976694822311401 AllocMem (Mb): 115.8583984375\n",
      "Current step: 200  Loss: 0.31143224239349365 DICE: 0.8050243258476257 AllocMem (Mb): 115.8583984375\n",
      "Current step: 225  Loss: 0.6488122344017029 DICE: 0.40413111448287964 AllocMem (Mb): 115.8583984375\n",
      "train Loss: 0.6175, DICE: 0.6166\n",
      "Saved best val model with DICE: 0.6638\n",
      "valid Loss: 0.5834, DICE: 0.6638\n",
      "Epoch 2/2\n",
      "----------\n",
      "DICE >= 0.64 !. Transforms enabled.\n",
      "Current step: 25  Loss: 0.5531049370765686 DICE: 0.5207856893539429 AllocMem (Mb): 115.859375\n",
      "Current step: 50  Loss: 0.6289154887199402 DICE: 0.5005056858062744 AllocMem (Mb): 115.859375\n",
      "Current step: 75  Loss: 0.5259777307510376 DICE: 0.6008050441741943 AllocMem (Mb): 115.859375\n",
      "Current step: 100  Loss: 0.4803672432899475 DICE: 0.674099326133728 AllocMem (Mb): 115.859375\n",
      "Current step: 125  Loss: 0.7593330144882202 DICE: 0.6096904277801514 AllocMem (Mb): 115.859375\n",
      "Current step: 150  Loss: 0.4391859471797943 DICE: 0.5516788363456726 AllocMem (Mb): 115.859375\n",
      "Current step: 175  Loss: 0.5176260471343994 DICE: 0.681475043296814 AllocMem (Mb): 115.859375\n",
      "Current step: 200  Loss: 0.43919456005096436 DICE: 0.698009729385376 AllocMem (Mb): 115.859375\n",
      "Current step: 225  Loss: 0.666146993637085 DICE: 0.7537603378295898 AllocMem (Mb): 115.859375\n",
      "train Loss: 0.5970, DICE: 0.6321\n",
      "Saved best val model with DICE: 0.6796\n",
      "valid Loss: 0.5268, DICE: 0.6796\n",
      "Training complete in 6m 50s\n"
     ]
    }
   ],
   "source": [
    "loss_fns = [focal_tversky_loss, bce_over_mask_loss, soft_dice_loss]\n",
    "\n",
    "train_loss, valid_loss = train(1e-3, network, train_dataloader, val_dataloader, loss_fns, dice_score, epochs=3, out_size=network_input, train_tf = train_tf_composes, class_inverse_ratios=class_inverse_ratios)"
   ]
  },
  {
   "cell_type": "markdown",
   "metadata": {
    "papermill": {
     "duration": 0.037535,
     "end_time": "2020-12-13T11:58:36.107862",
     "exception": false,
     "start_time": "2020-12-13T11:58:36.070327",
     "status": "completed"
    },
    "tags": []
   },
   "source": [
    "# INFERENCE\n",
    "The models to be used in ensemble prediction are specified in the cell below. In order for the sample code to work, the names of both models are set as the name saved at the end of the train."
   ]
  },
  {
   "cell_type": "code",
   "execution_count": 14,
   "metadata": {
    "execution": {
     "iopub.execute_input": "2020-12-13T11:58:36.186660Z",
     "iopub.status.busy": "2020-12-13T11:58:36.186105Z",
     "iopub.status.idle": "2020-12-13T11:58:36.326807Z",
     "shell.execute_reply": "2020-12-13T11:58:36.326030Z"
    },
    "papermill": {
     "duration": 0.18188,
     "end_time": "2020-12-13T11:58:36.326907",
     "exception": false,
     "start_time": "2020-12-13T11:58:36.145027",
     "status": "completed"
    },
    "tags": []
   },
   "outputs": [],
   "source": [
    "supervisor_model = torch.load(\"model.pt\") # 1. model\n",
    "supervisor_model2 = torch.load(\"model.pt\") # 2. model\n",
    "\n",
    "trained_models = [supervisor_model, supervisor_model2]"
   ]
  },
  {
   "cell_type": "code",
   "execution_count": 15,
   "metadata": {
    "execution": {
     "iopub.execute_input": "2020-12-13T11:58:36.414933Z",
     "iopub.status.busy": "2020-12-13T11:58:36.414055Z",
     "iopub.status.idle": "2020-12-13T11:58:37.171618Z",
     "shell.execute_reply": "2020-12-13T11:58:37.172042Z"
    },
    "papermill": {
     "duration": 0.807447,
     "end_time": "2020-12-13T11:58:37.172161",
     "exception": false,
     "start_time": "2020-12-13T11:58:36.364714",
     "status": "completed"
    },
    "tags": []
   },
   "outputs": [
    {
     "data": {
      "image/png": "[encoded data removed]",
      "text/plain": [
       "<Figure size 432x288 with 1 Axes>"
      ]
     },
     "metadata": {
      "needs_background": "light"
     },
     "output_type": "display_data"
    }
   ],
   "source": [
    "## Trying to show tensor-normalized versions of pictures, colors can appear faulty.\n",
    "\n",
    "for data in val_dataloader:\n",
    "    x = data[\"image\"][0:1].cuda()\n",
    "    y = data[\"decoded_masks\"][0].detach().cpu().numpy()\n",
    "    shape = data[\"shape\"][0:2]\n",
    "\n",
    "    outputs = torch.sigmoid(supervisor_model2(x))[0].detach().cpu().numpy()\n",
    "    \n",
    "    x = x.cpu().numpy().transpose((0,2,3,1))[0][:,:,:3]\n",
    "    shapetuple = (shape[1], shape[0])\n",
    "    fig = plt.figure()\n",
    "\n",
    "    maskcolors = [[0], [1], [2], [0,1,2]]\n",
    "\n",
    "    plt.axis('off')\n",
    "\n",
    "    for mask_i, mask in enumerate(outputs):\n",
    "        try: \n",
    "            mask[mask<mask_threshold] = 0\n",
    "            mask[mask>=mask_threshold] = 1            \n",
    "            mask = mask[..., np.newaxis]\n",
    "\n",
    "            active_channel = mask[:,:,0]\n",
    "            \n",
    "            mask = np.tile(mask,(1,1,3))\n",
    "            mask = np.zeros(mask.shape)\n",
    "\n",
    "            for idx in maskcolors[mask_i]:\n",
    "                mask[:,:,idx] = active_channel\n",
    "\n",
    "            masklocs = np.where(mask == 1)\n",
    "            x[masklocs] = 1\n",
    "\n",
    "        except:\n",
    "            print(\"ahoy\")\n",
    "\n",
    "\n",
    "    plt.imshow(x)\n",
    "    plt.show()\n",
    "    \n",
    "    break"
   ]
  },
  {
   "cell_type": "markdown",
   "metadata": {
    "papermill": {
     "duration": 0.039725,
     "end_time": "2020-12-13T11:58:37.252128",
     "exception": false,
     "start_time": "2020-12-13T11:58:37.212403",
     "status": "completed"
    },
    "tags": []
   },
   "source": [
    "# DICE Metric Test"
   ]
  },
  {
   "cell_type": "code",
   "execution_count": 16,
   "metadata": {
    "execution": {
     "iopub.execute_input": "2020-12-13T11:58:37.348299Z",
     "iopub.status.busy": "2020-12-13T11:58:37.347667Z",
     "iopub.status.idle": "2020-12-13T11:58:37.350509Z",
     "shell.execute_reply": "2020-12-13T11:58:37.350905Z"
    },
    "papermill": {
     "duration": 0.058928,
     "end_time": "2020-12-13T11:58:37.351017",
     "exception": false,
     "start_time": "2020-12-13T11:58:37.292089",
     "status": "completed"
    },
    "tags": []
   },
   "outputs": [],
   "source": [
    "def dice_eval(models, dl, loss_fn, mask_threshold=0.75):\n",
    "    start = time.time()\n",
    "\n",
    "    valid_loss = [], []\n",
    "\n",
    "    best_acc = 0.0\n",
    "    \n",
    "    for model in models:\n",
    "        model.cuda()\n",
    "        model.train(False)\n",
    "\n",
    "    running_loss = 0.0\n",
    "    running_acc = 0.0\n",
    "\n",
    "    step = 0\n",
    "\n",
    "    for data in tqdm(dl):\n",
    "        x = data[\"image\"].cuda()\n",
    "        y = data[\"decoded_masks\"].cuda()\n",
    "        step += 1\n",
    "\n",
    "        with torch.no_grad():\n",
    "            \n",
    "            outputs_sup = torch.sigmoid(models[0](x))\n",
    "            outputs_sup2 = torch.sigmoid(models[1](x))\n",
    "            \n",
    "            ## Weights are determined via 1 layer blender NN\n",
    "            \n",
    "            outputs_sup[:,1,:,:] *= 0.1 # yeşil class\n",
    "            outputs_sup[:,0,:,:] *= 0.85 # kırmızı class\n",
    "            outputs_sup[:,2,:,:] *= 0.5 # mavi class\n",
    "            outputs_sup[:,3,:,:] *= 0.15 # beyaz class\n",
    "    \n",
    "            outputs_sup2[:,1,:,:] *= 0.9 # yeşil class\n",
    "            outputs_sup2[:,0,:,:] *= 0.15 # kırmızı class\n",
    "            outputs_sup2[:,2,:,:] *= 0.5 # mavi class\n",
    "            outputs_sup2[:,3,:,:] *= 0.85 # beyaz class\n",
    "            \n",
    "            outputs = outputs_sup + outputs_sup2\n",
    "\n",
    "            outputs[outputs<mask_threshold] = 0\n",
    "            outputs[outputs>=mask_threshold] = 1\n",
    "            \n",
    "            beyazfinder = torch.where(outputs[0,3] == 1)\n",
    "            tempp = torch.ones((outputs.shape[2], outputs.shape[3])).cuda()\n",
    "            tempp[beyazfinder] = 0\n",
    "            outputs[:,:3] *= tempp\n",
    "\n",
    "            loss = loss_fn(outputs, y)\n",
    "\n",
    "        running_loss += loss*dl.batch_size \n",
    "\n",
    "    epoch_loss = running_loss / len(dl.dataset)\n",
    "\n",
    "    print('Validation DICE Score: {:.4f}'.format(epoch_loss))\n",
    "\n",
    "    time_elapsed = time.time() - start\n",
    "    \n",
    "    print('Validation completed in {:.0f}m {:.0f}s'.format(time_elapsed // 60, time_elapsed % 60))    "
   ]
  },
  {
   "cell_type": "code",
   "execution_count": 17,
   "metadata": {
    "execution": {
     "iopub.execute_input": "2020-12-13T11:58:37.435988Z",
     "iopub.status.busy": "2020-12-13T11:58:37.435180Z",
     "iopub.status.idle": "2020-12-13T11:59:14.995644Z",
     "shell.execute_reply": "2020-12-13T11:59:14.995093Z"
    },
    "papermill": {
     "duration": 37.604922,
     "end_time": "2020-12-13T11:59:14.995744",
     "exception": false,
     "start_time": "2020-12-13T11:58:37.390822",
     "status": "completed"
    },
    "tags": []
   },
   "outputs": [
    {
     "name": "stderr",
     "output_type": "stream",
     "text": [
      "100%|██████████| 122/122 [00:37<00:00,  3.25it/s]"
     ]
    },
    {
     "name": "stdout",
     "output_type": "stream",
     "text": [
      "Validation DICE Score: 0.6796\n",
      "Validation completed in 0m 38s\n"
     ]
    },
    {
     "name": "stderr",
     "output_type": "stream",
     "text": [
      "\n"
     ]
    }
   ],
   "source": [
    "dice_eval(trained_models, val_dataloader, dice_score, mask_threshold)"
   ]
  },
  {
   "cell_type": "code",
   "execution_count": 18,
   "metadata": {
    "execution": {
     "iopub.execute_input": "2020-12-13T11:59:15.159427Z",
     "iopub.status.busy": "2020-12-13T11:59:15.158858Z",
     "iopub.status.idle": "2020-12-13T11:59:15.162190Z",
     "shell.execute_reply": "2020-12-13T11:59:15.161344Z"
    },
    "papermill": {
     "duration": 0.091702,
     "end_time": "2020-12-13T11:59:15.162280",
     "exception": false,
     "start_time": "2020-12-13T11:59:15.070578",
     "status": "completed"
    },
    "tags": []
   },
   "outputs": [],
   "source": [
    "class AnadoluTestDataset(Dataset):\n",
    "\n",
    "    def __init__(self, csv_file, root_dir, network_input, transform=None):\n",
    "        \"\"\"\n",
    "        Args:\n",
    "            csv_file (string): Path to the csv file with annotations.\n",
    "            root_dir (string): Directory with all the images.\n",
    "            transform (callable, optional): Optional transform to be applied\n",
    "                on a sample.\n",
    "        \"\"\"\n",
    "        \n",
    "        self.landmarks_frame = pd.read_csv(csv_file)\n",
    "        self.root_dir = root_dir\n",
    "        self.transform = transform\n",
    "        self.network_input = network_input\n",
    "        self.landmarks_frame[\"imgname\"]  = self.landmarks_frame[\"filename_class\"].apply(lambda x: x[:-4] + \".jpeg\")\n",
    "        self.uniqframes = self.landmarks_frame[\"imgname\"].unique()\n",
    "        \n",
    "    def __len__(self):\n",
    "        return len(self.uniqframes)\n",
    "\n",
    "    def __getitem__(self, idx):\n",
    "        \n",
    "        if torch.is_tensor(idx):\n",
    "            idx = idx.tolist()\n",
    "\n",
    "        img_name = os.path.join(self.root_dir,\n",
    "                                self.uniqframes[idx])\n",
    "        image = io.imread(img_name)\n",
    "        \n",
    "        img_filter = self.landmarks_frame[\"imgname\"]==self.uniqframes[idx]\n",
    "        img_width = image.shape[1]\n",
    "        img_height = image.shape[0]\n",
    "        img_name_wo_class = self.uniqframes[idx][:-5]\n",
    "        \n",
    "        returning = {'image': image, 'shape': np.array([img_height, img_width]), 'imgname': img_name_wo_class}\n",
    "        \n",
    "        if self.transform:\n",
    "            transformed = self.transform(image=returning[\"image\"])\n",
    "            returning[\"image\"] = transformed[\"image\"]\n",
    "            \n",
    "            \n",
    "        return returning"
   ]
  },
  {
   "cell_type": "code",
   "execution_count": 19,
   "metadata": {
    "execution": {
     "iopub.execute_input": "2020-12-13T11:59:15.320590Z",
     "iopub.status.busy": "2020-12-13T11:59:15.320000Z",
     "iopub.status.idle": "2020-12-13T11:59:15.332249Z",
     "shell.execute_reply": "2020-12-13T11:59:15.331807Z"
    },
    "papermill": {
     "duration": 0.094749,
     "end_time": "2020-12-13T11:59:15.332335",
     "exception": false,
     "start_time": "2020-12-13T11:59:15.237586",
     "status": "completed"
    },
    "tags": []
   },
   "outputs": [],
   "source": [
    "test_transform = A.Compose(\n",
    "    [\n",
    "        A.Resize(network_input, network_input),\n",
    "        A.Normalize(mean=(0.485, 0.456, 0.406), std=(0.229, 0.224, 0.225)),\n",
    "        ToTensorV2(),\n",
    "    ]\n",
    ")\n",
    "\n",
    "test_dataset = AnadoluTestDataset(path + \"sample_submission.csv\", \n",
    "                         path+test_img_extension, \n",
    "                         network_input,\n",
    "                         test_transform\n",
    "                        )     \n",
    "\n",
    "test_dataloader = DataLoader(test_dataset, batch_size=1,\n",
    "                        shuffle=False, num_workers=0)"
   ]
  },
  {
   "cell_type": "code",
   "execution_count": 20,
   "metadata": {
    "execution": {
     "iopub.execute_input": "2020-12-13T11:59:15.504580Z",
     "iopub.status.busy": "2020-12-13T11:59:15.503255Z",
     "iopub.status.idle": "2020-12-13T11:59:15.505767Z",
     "shell.execute_reply": "2020-12-13T11:59:15.506186Z"
    },
    "papermill": {
     "duration": 0.098837,
     "end_time": "2020-12-13T11:59:15.506295",
     "exception": false,
     "start_time": "2020-12-13T11:59:15.407458",
     "status": "completed"
    },
    "tags": []
   },
   "outputs": [],
   "source": [
    "def create_csv(models, dl, mask_threshold=0.75):\n",
    "    start = time.time()\n",
    "    for model in models:\n",
    "        model.cuda()\n",
    "        model.train(False)\n",
    "\n",
    "    data_arr = []\n",
    "    \n",
    "    for data in tqdm(dl):\n",
    " \n",
    "        x = data[\"image\"].float().to(device, non_blocking=True)\n",
    "        shape = data[\"shape\"].int().view(x.shape[0], 2)\n",
    "        imgnames = data[\"imgname\"]\n",
    "        \n",
    "        with torch.no_grad():\n",
    "\n",
    "            outputs_sup = torch.sigmoid(models[0](x)).cpu().numpy()\n",
    "            outputs_sup2 = torch.sigmoid(models[1](x)).cpu().numpy()\n",
    "            \n",
    "            ## 1-layer NN ile belirlenip yuvarlanmış katsayılar, sunumda bahsedilecek\n",
    "            \n",
    "            outputs_sup[:,1,:,:] *= 0.1 # yeşil class\n",
    "            outputs_sup[:,0,:,:] *= 0.85 # kırmızı class\n",
    "            outputs_sup[:,2,:,:] *= 0.5 # mavi class\n",
    "            outputs_sup[:,3,:,:] *= 0.15 # beyaz class\n",
    "    \n",
    "            outputs_sup2[:,1,:,:] *= 0.9 # yeşil class\n",
    "            outputs_sup2[:,0,:,:] *= 0.15 # kırmızı class\n",
    "            outputs_sup2[:,2,:,:] *= 0.5 # mavi class\n",
    "            outputs_sup2[:,3,:,:] *= 0.85 # beyaz class\n",
    "            \n",
    "            outputs = outputs_sup + outputs_sup2\n",
    "\n",
    "            outputs[outputs<mask_threshold] = 0\n",
    "            outputs[outputs>=mask_threshold] = 1\n",
    "            \n",
    "            beyazfinder = np.where(outputs[0,3] == 1)\n",
    "            tempp = np.ones((outputs.shape[2], outputs.shape[3]))\n",
    "            tempp[beyazfinder] = 0\n",
    "            outputs[:,:3] *= tempp\n",
    "            \n",
    "        for bid in range(outputs.shape[0]):\n",
    "            shapetuple = shape[bid]\n",
    "            \n",
    "            for mid in range(outputs.shape[1]):\n",
    "                iname_row = imgnames[bid] + \"_id\" + str(mid+1)            \n",
    "                resized_out = F.resize(outputs[bid][mid], height=shapetuple[0], width=shapetuple[1], interpolation=cv2.INTER_NEAREST).T\n",
    "                encoded_row = rle(resized_out)\n",
    "                data_arr.append([iname_row, encoded_row])\n",
    "\n",
    "    time_elapsed = time.time() - start\n",
    "    \n",
    "    df = pd.DataFrame(data_arr, columns=['filename_class', 'encoded_mask'])\n",
    "\n",
    "    print('CSV completed in {:.0f}m {:.0f}s'.format(time_elapsed // 60, time_elapsed % 60)) \n",
    "    \n",
    "    return df"
   ]
  },
  {
   "cell_type": "code",
   "execution_count": 21,
   "metadata": {
    "execution": {
     "iopub.execute_input": "2020-12-13T11:59:15.663316Z",
     "iopub.status.busy": "2020-12-13T11:59:15.662474Z",
     "iopub.status.idle": "2020-12-13T12:00:39.927486Z",
     "shell.execute_reply": "2020-12-13T12:00:39.927014Z"
    },
    "papermill": {
     "duration": 84.346022,
     "end_time": "2020-12-13T12:00:39.927625",
     "exception": false,
     "start_time": "2020-12-13T11:59:15.581603",
     "status": "completed"
    },
    "tags": []
   },
   "outputs": [
    {
     "name": "stderr",
     "output_type": "stream",
     "text": [
      "100%|██████████| 503/503 [01:24<00:00,  5.97it/s]"
     ]
    },
    {
     "name": "stdout",
     "output_type": "stream",
     "text": [
      "CSV completed in 1m 24s\n"
     ]
    },
    {
     "name": "stderr",
     "output_type": "stream",
     "text": [
      "\n"
     ]
    }
   ],
   "source": [
    "trained_models = [supervisor_model, supervisor_model2]\n",
    "csvdf = create_csv(trained_models, test_dataloader, mask_threshold=mask_threshold)"
   ]
  },
  {
   "cell_type": "code",
   "execution_count": 22,
   "metadata": {
    "execution": {
     "iopub.execute_input": "2020-12-13T12:00:40.290329Z",
     "iopub.status.busy": "2020-12-13T12:00:40.286000Z",
     "iopub.status.idle": "2020-12-13T12:00:40.892630Z",
     "shell.execute_reply": "2020-12-13T12:00:40.891180Z"
    },
    "papermill": {
     "duration": 0.788657,
     "end_time": "2020-12-13T12:00:40.892744",
     "exception": false,
     "start_time": "2020-12-13T12:00:40.104087",
     "status": "completed"
    },
    "tags": []
   },
   "outputs": [],
   "source": [
    "samplesub = pd.read_csv(path + \"sample_submission.csv\")\n",
    "cropped_csvdf = csvdf[csvdf['filename_class'].isin(samplesub[\"filename_class\"].values)]\n",
    "cropped_csvdf.to_csv(\"sub_ensemble_final.csv\", index=None)\n",
    "csvdf.to_csv(\"full_test_masks_ensemble_final.csv\", index=None)"
   ]
  }
 ],
 "metadata": {
  "kernelspec": {
   "display_name": "Python 3",
   "language": "python",
   "name": "python3"
  },
  "language_info": {
   "codemirror_mode": {
    "name": "ipython",
    "version": 3
   },
   "file_extension": ".py",
   "mimetype": "text/x-python",
   "name": "python",
   "nbconvert_exporter": "python",
   "pygments_lexer": "ipython3",
   "version": "3.7.10"
  },
  "papermill": {
   "duration": 568.639217,
   "end_time": "2020-12-13T12:00:41.579153",
   "environment_variables": {},
   "exception": null,
   "input_path": "__notebook__.ipynb",
   "output_path": "__notebook__.ipynb",
   "parameters": {},
   "start_time": "2020-12-13T11:51:12.939936",
   "version": "2.1.0"
  },
  "widgets": {
   "application/vnd.jupyter.widget-state+json": {
    "state": {
     "058c28d2f3f642d0a7e14ce3ef994372": {
      "model_module": "@jupyter-widgets/controls",
      "model_module_version": "1.5.0",
      "model_name": "HBoxModel",
      "state": {
       "_dom_classes": [],
       "_model_module": "@jupyter-widgets/controls",
       "_model_module_version": "1.5.0",
       "_model_name": "HBoxModel",
       "_view_count": null,
       "_view_module": "@jupyter-widgets/controls",
       "_view_module_version": "1.5.0",
       "_view_name": "HBoxView",
       "box_style": "",
       "children": [
        "IPY_MODEL_3eb58009300d423b81c63effd088e943",
        "IPY_MODEL_95983140d8cb420fa568d56d9b951c3f"
       ],
       "layout": "IPY_MODEL_e19d98e4b8d6481ebb2d1c9e51d10ce6"
      }
     },
     "2f306e2edafe4188aaa44f2fb595256d": {
      "model_module": "@jupyter-widgets/base",
      "model_module_version": "1.2.0",
      "model_name": "LayoutModel",
      "state": {
       "_model_module": "@jupyter-widgets/base",
       "_model_module_version": "1.2.0",
       "_model_name": "LayoutModel",
       "_view_count": null,
       "_view_module": "@jupyter-widgets/base",
       "_view_module_version": "1.2.0",
       "_view_name": "LayoutView",
       "align_content": null,
       "align_items": null,
       "align_self": null,
       "border": null,
       "bottom": null,
       "display": null,
       "flex": null,
       "flex_flow": null,
       "grid_area": null,
       "grid_auto_columns": null,
       "grid_auto_flow": null,
       "grid_auto_rows": null,
       "grid_column": null,
       "grid_gap": null,
       "grid_row": null,
       "grid_template_areas": null,
       "grid_template_columns": null,
       "grid_template_rows": null,
       "height": null,
       "justify_content": null,
       "justify_items": null,
       "left": null,
       "margin": null,
       "max_height": null,
       "max_width": null,
       "min_height": null,
       "min_width": null,
       "object_fit": null,
       "object_position": null,
       "order": null,
       "overflow": null,
       "overflow_x": null,
       "overflow_y": null,
       "padding": null,
       "right": null,
       "top": null,
       "visibility": null,
       "width": null
      }
     },
     "3eb58009300d423b81c63effd088e943": {
      "model_module": "@jupyter-widgets/controls",
      "model_module_version": "1.5.0",
      "model_name": "FloatProgressModel",
      "state": {
       "_dom_classes": [],
       "_model_module": "@jupyter-widgets/controls",
       "_model_module_version": "1.5.0",
       "_model_name": "FloatProgressModel",
       "_view_count": null,
       "_view_module": "@jupyter-widgets/controls",
       "_view_module_version": "1.5.0",
       "_view_name": "ProgressView",
       "bar_style": "success",
       "description": "100%",
       "description_tooltip": null,
       "layout": "IPY_MODEL_2f306e2edafe4188aaa44f2fb595256d",
       "max": 21383997,
       "min": 0,
       "orientation": "horizontal",
       "style": "IPY_MODEL_7d0b5d96ff144b09857ff7893a1f2c20",
       "value": 21383997
      }
     },
     "79609afc0d414cb68ada51fd6937118e": {
      "model_module": "@jupyter-widgets/controls",
      "model_module_version": "1.5.0",
      "model_name": "DescriptionStyleModel",
      "state": {
       "_model_module": "@jupyter-widgets/controls",
       "_model_module_version": "1.5.0",
       "_model_name": "DescriptionStyleModel",
       "_view_count": null,
       "_view_module": "@jupyter-widgets/base",
       "_view_module_version": "1.2.0",
       "_view_name": "StyleView",
       "description_width": ""
      }
     },
     "7d0b5d96ff144b09857ff7893a1f2c20": {
      "model_module": "@jupyter-widgets/controls",
      "model_module_version": "1.5.0",
      "model_name": "ProgressStyleModel",
      "state": {
       "_model_module": "@jupyter-widgets/controls",
       "_model_module_version": "1.5.0",
       "_model_name": "ProgressStyleModel",
       "_view_count": null,
       "_view_module": "@jupyter-widgets/base",
       "_view_module_version": "1.2.0",
       "_view_name": "StyleView",
       "bar_color": null,
       "description_width": "initial"
      }
     },
     "95983140d8cb420fa568d56d9b951c3f": {
      "model_module": "@jupyter-widgets/controls",
      "model_module_version": "1.5.0",
      "model_name": "HTMLModel",
      "state": {
       "_dom_classes": [],
       "_model_module": "@jupyter-widgets/controls",
       "_model_module_version": "1.5.0",
       "_model_name": "HTMLModel",
       "_view_count": null,
       "_view_module": "@jupyter-widgets/controls",
       "_view_module_version": "1.5.0",
       "_view_name": "HTMLView",
       "description": "",
       "description_tooltip": null,
       "layout": "IPY_MODEL_f94ee7cda8a647c5ae5608a3a1e5aa09",
       "placeholder": "​",
       "style": "IPY_MODEL_79609afc0d414cb68ada51fd6937118e",
       "value": " 20.4M/20.4M [00:01&lt;00:00, 15.1MB/s]"
      }
     },
     "e19d98e4b8d6481ebb2d1c9e51d10ce6": {
      "model_module": "@jupyter-widgets/base",
      "model_module_version": "1.2.0",
      "model_name": "LayoutModel",
      "state": {
       "_model_module": "@jupyter-widgets/base",
       "_model_module_version": "1.2.0",
       "_model_name": "LayoutModel",
       "_view_count": null,
       "_view_module": "@jupyter-widgets/base",
       "_view_module_version": "1.2.0",
       "_view_name": "LayoutView",
       "align_content": null,
       "align_items": null,
       "align_self": null,
       "border": null,
       "bottom": null,
       "display": null,
       "flex": null,
       "flex_flow": null,
       "grid_area": null,
       "grid_auto_columns": null,
       "grid_auto_flow": null,
       "grid_auto_rows": null,
       "grid_column": null,
       "grid_gap": null,
       "grid_row": null,
       "grid_template_areas": null,
       "grid_template_columns": null,
       "grid_template_rows": null,
       "height": null,
       "justify_content": null,
       "justify_items": null,
       "left": null,
       "margin": null,
       "max_height": null,
       "max_width": null,
       "min_height": null,
       "min_width": null,
       "object_fit": null,
       "object_position": null,
       "order": null,
       "overflow": null,
       "overflow_x": null,
       "overflow_y": null,
       "padding": null,
       "right": null,
       "top": null,
       "visibility": null,
       "width": null
      }
     },
     "f94ee7cda8a647c5ae5608a3a1e5aa09": {
      "model_module": "@jupyter-widgets/base",
      "model_module_version": "1.2.0",
      "model_name": "LayoutModel",
      "state": {
       "_model_module": "@jupyter-widgets/base",
       "_model_module_version": "1.2.0",
       "_model_name": "LayoutModel",
       "_view_count": null,
       "_view_module": "@jupyter-widgets/base",
       "_view_module_version": "1.2.0",
       "_view_name": "LayoutView",
       "align_content": null,
       "align_items": null,
       "align_self": null,
       "border": null,
       "bottom": null,
       "display": null,
       "flex": null,
       "flex_flow": null,
       "grid_area": null,
       "grid_auto_columns": null,
       "grid_auto_flow": null,
       "grid_auto_rows": null,
       "grid_column": null,
       "grid_gap": null,
       "grid_row": null,
       "grid_template_areas": null,
       "grid_template_columns": null,
       "grid_template_rows": null,
       "height": null,
       "justify_content": null,
       "justify_items": null,
       "left": null,
       "margin": null,
       "max_height": null,
       "max_width": null,
       "min_height": null,
       "min_width": null,
       "object_fit": null,
       "object_position": null,
       "order": null,
       "overflow": null,
       "overflow_x": null,
       "overflow_y": null,
       "padding": null,
       "right": null,
       "top": null,
       "visibility": null,
       "width": null
      }
     }
    },
    "version_major": 2,
    "version_minor": 0
   }
  }
 },
 "nbformat": 4,
 "nbformat_minor": 4
}
